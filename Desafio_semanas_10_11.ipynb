{
  "cells": [
    {
      "cell_type": "code",
      "execution_count": 1,
      "metadata": {
        "id": "2V_dUd_4GCh2"
      },
      "outputs": [],
      "source": [
        "import pandas as pd\n",
        "import numpy as np\n",
        "from scipy import stats\n",
        "from scipy.stats import binom\n",
        "import matplotlib.pyplot as plt"
      ]
    },
    {
      "cell_type": "markdown",
      "metadata": {
        "id": "CvkPQtfOG-fW"
      },
      "source": [
        "#Contexto\n",
        "Considerando a base de dados de populacao_brasileira.json responda as\n",
        "questões abaixo (os dados são fictícios).\n",
        "Você é uma pesquisadora desenvolvendo uma análise sobre as\n",
        "características da força de trabalho nos estados brasileiros. Responda as\n",
        "perguntas abaixo:"
      ]
    },
    {
      "cell_type": "code",
      "execution_count": 2,
      "metadata": {
        "id": "lDKWYin7Gabn"
      },
      "outputs": [],
      "source": [
        "df = pd.read_csv('/content/drive/MyDrive/WoMakersCode/RRLNbvGQQtu5fPdxzFPI_populacao_brasileira.csv.csv')"
      ]
    },
    {
      "cell_type": "code",
      "execution_count": 12,
      "metadata": {
        "colab": {
          "base_uri": "https://localhost:8080/",
          "height": 363
        },
        "id": "s8oG9pVXGp7X",
        "outputId": "6c76b601-bffa-45e1-c48b-2747927bcd5d"
      },
      "outputs": [
        {
          "data": {
            "application/vnd.google.colaboratory.intrinsic+json": {
              "summary": "{\n  \"name\": \"df\",\n  \"rows\": 1000,\n  \"fields\": [\n    {\n      \"column\": \"Unnamed: 0\",\n      \"properties\": {\n        \"dtype\": \"number\",\n        \"std\": 288,\n        \"min\": 0,\n        \"max\": 999,\n        \"num_unique_values\": 1000,\n        \"samples\": [\n          521,\n          737,\n          740\n        ],\n        \"semantic_type\": \"\",\n        \"description\": \"\"\n      }\n    },\n    {\n      \"column\": \"estado\",\n      \"properties\": {\n        \"dtype\": \"category\",\n        \"num_unique_values\": 27,\n        \"samples\": [\n          \"AC\",\n          \"PA\",\n          \"SC\"\n        ],\n        \"semantic_type\": \"\",\n        \"description\": \"\"\n      }\n    },\n    {\n      \"column\": \"idade\",\n      \"properties\": {\n        \"dtype\": \"number\",\n        \"std\": 13,\n        \"min\": 18,\n        \"max\": 64,\n        \"num_unique_values\": 47,\n        \"samples\": [\n          24,\n          48,\n          54\n        ],\n        \"semantic_type\": \"\",\n        \"description\": \"\"\n      }\n    },\n    {\n      \"column\": \"escolaridade\",\n      \"properties\": {\n        \"dtype\": \"category\",\n        \"num_unique_values\": 4,\n        \"samples\": [\n          \"Superior\",\n          \"P\\u00f3s-gradua\\u00e7\\u00e3o\",\n          \"Fundamental\"\n        ],\n        \"semantic_type\": \"\",\n        \"description\": \"\"\n      }\n    },\n    {\n      \"column\": \"n\\u00edvel de profici\\u00eancia em ingl\\u00eas\",\n      \"properties\": {\n        \"dtype\": \"category\",\n        \"num_unique_values\": 3,\n        \"samples\": [\n          \"Intermedi\\u00e1rio\",\n          \"B\\u00e1sico\",\n          \"Avan\\u00e7ado\"\n        ],\n        \"semantic_type\": \"\",\n        \"description\": \"\"\n      }\n    },\n    {\n      \"column\": \"renda\",\n      \"properties\": {\n        \"dtype\": \"number\",\n        \"std\": 996.572239312141,\n        \"min\": 103.74,\n        \"max\": 5632.38,\n        \"num_unique_values\": 998,\n        \"samples\": [\n          2752.82,\n          4218.76,\n          2244.62\n        ],\n        \"semantic_type\": \"\",\n        \"description\": \"\"\n      }\n    },\n    {\n      \"column\": \"sexo\",\n      \"properties\": {\n        \"dtype\": \"category\",\n        \"num_unique_values\": 2,\n        \"samples\": [\n          \"M\",\n          \"F\"\n        ],\n        \"semantic_type\": \"\",\n        \"description\": \"\"\n      }\n    }\n  ]\n}",
              "type": "dataframe",
              "variable_name": "df"
            },
            "text/html": [
              "\n",
              "  <div id=\"df-7fc0eb86-f2f4-4d2e-9e16-bd241d276e82\" class=\"colab-df-container\">\n",
              "    <div>\n",
              "<style scoped>\n",
              "    .dataframe tbody tr th:only-of-type {\n",
              "        vertical-align: middle;\n",
              "    }\n",
              "\n",
              "    .dataframe tbody tr th {\n",
              "        vertical-align: top;\n",
              "    }\n",
              "\n",
              "    .dataframe thead th {\n",
              "        text-align: right;\n",
              "    }\n",
              "</style>\n",
              "<table border=\"1\" class=\"dataframe\">\n",
              "  <thead>\n",
              "    <tr style=\"text-align: right;\">\n",
              "      <th></th>\n",
              "      <th>Unnamed: 0</th>\n",
              "      <th>estado</th>\n",
              "      <th>idade</th>\n",
              "      <th>escolaridade</th>\n",
              "      <th>nível de proficiência em inglês</th>\n",
              "      <th>renda</th>\n",
              "      <th>sexo</th>\n",
              "    </tr>\n",
              "  </thead>\n",
              "  <tbody>\n",
              "    <tr>\n",
              "      <th>0</th>\n",
              "      <td>0</td>\n",
              "      <td>MA</td>\n",
              "      <td>56</td>\n",
              "      <td>Fundamental</td>\n",
              "      <td>Intermediário</td>\n",
              "      <td>4006.29</td>\n",
              "      <td>F</td>\n",
              "    </tr>\n",
              "    <tr>\n",
              "      <th>1</th>\n",
              "      <td>1</td>\n",
              "      <td>BA</td>\n",
              "      <td>46</td>\n",
              "      <td>Superior</td>\n",
              "      <td>Básico</td>\n",
              "      <td>2423.11</td>\n",
              "      <td>M</td>\n",
              "    </tr>\n",
              "    <tr>\n",
              "      <th>2</th>\n",
              "      <td>2</td>\n",
              "      <td>AM</td>\n",
              "      <td>32</td>\n",
              "      <td>Fundamental</td>\n",
              "      <td>Intermediário</td>\n",
              "      <td>3835.69</td>\n",
              "      <td>M</td>\n",
              "    </tr>\n",
              "    <tr>\n",
              "      <th>3</th>\n",
              "      <td>3</td>\n",
              "      <td>CE</td>\n",
              "      <td>60</td>\n",
              "      <td>Superior</td>\n",
              "      <td>Básico</td>\n",
              "      <td>1870.29</td>\n",
              "      <td>M</td>\n",
              "    </tr>\n",
              "    <tr>\n",
              "      <th>4</th>\n",
              "      <td>4</td>\n",
              "      <td>SE</td>\n",
              "      <td>25</td>\n",
              "      <td>Fundamental</td>\n",
              "      <td>Avançado</td>\n",
              "      <td>3529.80</td>\n",
              "      <td>M</td>\n",
              "    </tr>\n",
              "    <tr>\n",
              "      <th>5</th>\n",
              "      <td>5</td>\n",
              "      <td>AM</td>\n",
              "      <td>38</td>\n",
              "      <td>Fundamental</td>\n",
              "      <td>Avançado</td>\n",
              "      <td>4441.57</td>\n",
              "      <td>F</td>\n",
              "    </tr>\n",
              "    <tr>\n",
              "      <th>6</th>\n",
              "      <td>6</td>\n",
              "      <td>DF</td>\n",
              "      <td>56</td>\n",
              "      <td>Médio</td>\n",
              "      <td>Intermediário</td>\n",
              "      <td>528.36</td>\n",
              "      <td>F</td>\n",
              "    </tr>\n",
              "    <tr>\n",
              "      <th>7</th>\n",
              "      <td>7</td>\n",
              "      <td>DF</td>\n",
              "      <td>36</td>\n",
              "      <td>Superior</td>\n",
              "      <td>Avançado</td>\n",
              "      <td>2203.10</td>\n",
              "      <td>F</td>\n",
              "    </tr>\n",
              "    <tr>\n",
              "      <th>8</th>\n",
              "      <td>8</td>\n",
              "      <td>PI</td>\n",
              "      <td>40</td>\n",
              "      <td>Fundamental</td>\n",
              "      <td>Básico</td>\n",
              "      <td>3577.07</td>\n",
              "      <td>F</td>\n",
              "    </tr>\n",
              "    <tr>\n",
              "      <th>9</th>\n",
              "      <td>9</td>\n",
              "      <td>AP</td>\n",
              "      <td>28</td>\n",
              "      <td>Superior</td>\n",
              "      <td>Avançado</td>\n",
              "      <td>2796.95</td>\n",
              "      <td>M</td>\n",
              "    </tr>\n",
              "  </tbody>\n",
              "</table>\n",
              "</div>\n",
              "    <div class=\"colab-df-buttons\">\n",
              "\n",
              "  <div class=\"colab-df-container\">\n",
              "    <button class=\"colab-df-convert\" onclick=\"convertToInteractive('df-7fc0eb86-f2f4-4d2e-9e16-bd241d276e82')\"\n",
              "            title=\"Convert this dataframe to an interactive table.\"\n",
              "            style=\"display:none;\">\n",
              "\n",
              "  <svg xmlns=\"http://www.w3.org/2000/svg\" height=\"24px\" viewBox=\"0 -960 960 960\">\n",
              "    <path d=\"M120-120v-720h720v720H120Zm60-500h600v-160H180v160Zm220 220h160v-160H400v160Zm0 220h160v-160H400v160ZM180-400h160v-160H180v160Zm440 0h160v-160H620v160ZM180-180h160v-160H180v160Zm440 0h160v-160H620v160Z\"/>\n",
              "  </svg>\n",
              "    </button>\n",
              "\n",
              "  <style>\n",
              "    .colab-df-container {\n",
              "      display:flex;\n",
              "      gap: 12px;\n",
              "    }\n",
              "\n",
              "    .colab-df-convert {\n",
              "      background-color: #E8F0FE;\n",
              "      border: none;\n",
              "      border-radius: 50%;\n",
              "      cursor: pointer;\n",
              "      display: none;\n",
              "      fill: #1967D2;\n",
              "      height: 32px;\n",
              "      padding: 0 0 0 0;\n",
              "      width: 32px;\n",
              "    }\n",
              "\n",
              "    .colab-df-convert:hover {\n",
              "      background-color: #E2EBFA;\n",
              "      box-shadow: 0px 1px 2px rgba(60, 64, 67, 0.3), 0px 1px 3px 1px rgba(60, 64, 67, 0.15);\n",
              "      fill: #174EA6;\n",
              "    }\n",
              "\n",
              "    .colab-df-buttons div {\n",
              "      margin-bottom: 4px;\n",
              "    }\n",
              "\n",
              "    [theme=dark] .colab-df-convert {\n",
              "      background-color: #3B4455;\n",
              "      fill: #D2E3FC;\n",
              "    }\n",
              "\n",
              "    [theme=dark] .colab-df-convert:hover {\n",
              "      background-color: #434B5C;\n",
              "      box-shadow: 0px 1px 3px 1px rgba(0, 0, 0, 0.15);\n",
              "      filter: drop-shadow(0px 1px 2px rgba(0, 0, 0, 0.3));\n",
              "      fill: #FFFFFF;\n",
              "    }\n",
              "  </style>\n",
              "\n",
              "    <script>\n",
              "      const buttonEl =\n",
              "        document.querySelector('#df-7fc0eb86-f2f4-4d2e-9e16-bd241d276e82 button.colab-df-convert');\n",
              "      buttonEl.style.display =\n",
              "        google.colab.kernel.accessAllowed ? 'block' : 'none';\n",
              "\n",
              "      async function convertToInteractive(key) {\n",
              "        const element = document.querySelector('#df-7fc0eb86-f2f4-4d2e-9e16-bd241d276e82');\n",
              "        const dataTable =\n",
              "          await google.colab.kernel.invokeFunction('convertToInteractive',\n",
              "                                                    [key], {});\n",
              "        if (!dataTable) return;\n",
              "\n",
              "        const docLinkHtml = 'Like what you see? Visit the ' +\n",
              "          '<a target=\"_blank\" href=https://colab.research.google.com/notebooks/data_table.ipynb>data table notebook</a>'\n",
              "          + ' to learn more about interactive tables.';\n",
              "        element.innerHTML = '';\n",
              "        dataTable['output_type'] = 'display_data';\n",
              "        await google.colab.output.renderOutput(dataTable, element);\n",
              "        const docLink = document.createElement('div');\n",
              "        docLink.innerHTML = docLinkHtml;\n",
              "        element.appendChild(docLink);\n",
              "      }\n",
              "    </script>\n",
              "  </div>\n",
              "\n",
              "\n",
              "<div id=\"df-21aebde2-0f29-453b-925d-606ea4409229\">\n",
              "  <button class=\"colab-df-quickchart\" onclick=\"quickchart('df-21aebde2-0f29-453b-925d-606ea4409229')\"\n",
              "            title=\"Suggest charts\"\n",
              "            style=\"display:none;\">\n",
              "\n",
              "<svg xmlns=\"http://www.w3.org/2000/svg\" height=\"24px\"viewBox=\"0 0 24 24\"\n",
              "     width=\"24px\">\n",
              "    <g>\n",
              "        <path d=\"M19 3H5c-1.1 0-2 .9-2 2v14c0 1.1.9 2 2 2h14c1.1 0 2-.9 2-2V5c0-1.1-.9-2-2-2zM9 17H7v-7h2v7zm4 0h-2V7h2v10zm4 0h-2v-4h2v4z\"/>\n",
              "    </g>\n",
              "</svg>\n",
              "  </button>\n",
              "\n",
              "<style>\n",
              "  .colab-df-quickchart {\n",
              "      --bg-color: #E8F0FE;\n",
              "      --fill-color: #1967D2;\n",
              "      --hover-bg-color: #E2EBFA;\n",
              "      --hover-fill-color: #174EA6;\n",
              "      --disabled-fill-color: #AAA;\n",
              "      --disabled-bg-color: #DDD;\n",
              "  }\n",
              "\n",
              "  [theme=dark] .colab-df-quickchart {\n",
              "      --bg-color: #3B4455;\n",
              "      --fill-color: #D2E3FC;\n",
              "      --hover-bg-color: #434B5C;\n",
              "      --hover-fill-color: #FFFFFF;\n",
              "      --disabled-bg-color: #3B4455;\n",
              "      --disabled-fill-color: #666;\n",
              "  }\n",
              "\n",
              "  .colab-df-quickchart {\n",
              "    background-color: var(--bg-color);\n",
              "    border: none;\n",
              "    border-radius: 50%;\n",
              "    cursor: pointer;\n",
              "    display: none;\n",
              "    fill: var(--fill-color);\n",
              "    height: 32px;\n",
              "    padding: 0;\n",
              "    width: 32px;\n",
              "  }\n",
              "\n",
              "  .colab-df-quickchart:hover {\n",
              "    background-color: var(--hover-bg-color);\n",
              "    box-shadow: 0 1px 2px rgba(60, 64, 67, 0.3), 0 1px 3px 1px rgba(60, 64, 67, 0.15);\n",
              "    fill: var(--button-hover-fill-color);\n",
              "  }\n",
              "\n",
              "  .colab-df-quickchart-complete:disabled,\n",
              "  .colab-df-quickchart-complete:disabled:hover {\n",
              "    background-color: var(--disabled-bg-color);\n",
              "    fill: var(--disabled-fill-color);\n",
              "    box-shadow: none;\n",
              "  }\n",
              "\n",
              "  .colab-df-spinner {\n",
              "    border: 2px solid var(--fill-color);\n",
              "    border-color: transparent;\n",
              "    border-bottom-color: var(--fill-color);\n",
              "    animation:\n",
              "      spin 1s steps(1) infinite;\n",
              "  }\n",
              "\n",
              "  @keyframes spin {\n",
              "    0% {\n",
              "      border-color: transparent;\n",
              "      border-bottom-color: var(--fill-color);\n",
              "      border-left-color: var(--fill-color);\n",
              "    }\n",
              "    20% {\n",
              "      border-color: transparent;\n",
              "      border-left-color: var(--fill-color);\n",
              "      border-top-color: var(--fill-color);\n",
              "    }\n",
              "    30% {\n",
              "      border-color: transparent;\n",
              "      border-left-color: var(--fill-color);\n",
              "      border-top-color: var(--fill-color);\n",
              "      border-right-color: var(--fill-color);\n",
              "    }\n",
              "    40% {\n",
              "      border-color: transparent;\n",
              "      border-right-color: var(--fill-color);\n",
              "      border-top-color: var(--fill-color);\n",
              "    }\n",
              "    60% {\n",
              "      border-color: transparent;\n",
              "      border-right-color: var(--fill-color);\n",
              "    }\n",
              "    80% {\n",
              "      border-color: transparent;\n",
              "      border-right-color: var(--fill-color);\n",
              "      border-bottom-color: var(--fill-color);\n",
              "    }\n",
              "    90% {\n",
              "      border-color: transparent;\n",
              "      border-bottom-color: var(--fill-color);\n",
              "    }\n",
              "  }\n",
              "</style>\n",
              "\n",
              "  <script>\n",
              "    async function quickchart(key) {\n",
              "      const quickchartButtonEl =\n",
              "        document.querySelector('#' + key + ' button');\n",
              "      quickchartButtonEl.disabled = true;  // To prevent multiple clicks.\n",
              "      quickchartButtonEl.classList.add('colab-df-spinner');\n",
              "      try {\n",
              "        const charts = await google.colab.kernel.invokeFunction(\n",
              "            'suggestCharts', [key], {});\n",
              "      } catch (error) {\n",
              "        console.error('Error during call to suggestCharts:', error);\n",
              "      }\n",
              "      quickchartButtonEl.classList.remove('colab-df-spinner');\n",
              "      quickchartButtonEl.classList.add('colab-df-quickchart-complete');\n",
              "    }\n",
              "    (() => {\n",
              "      let quickchartButtonEl =\n",
              "        document.querySelector('#df-21aebde2-0f29-453b-925d-606ea4409229 button');\n",
              "      quickchartButtonEl.style.display =\n",
              "        google.colab.kernel.accessAllowed ? 'block' : 'none';\n",
              "    })();\n",
              "  </script>\n",
              "</div>\n",
              "\n",
              "    </div>\n",
              "  </div>\n"
            ],
            "text/plain": [
              "   Unnamed: 0 estado  idade escolaridade nível de proficiência em inglês  \\\n",
              "0           0     MA     56  Fundamental                   Intermediário   \n",
              "1           1     BA     46     Superior                          Básico   \n",
              "2           2     AM     32  Fundamental                   Intermediário   \n",
              "3           3     CE     60     Superior                          Básico   \n",
              "4           4     SE     25  Fundamental                        Avançado   \n",
              "5           5     AM     38  Fundamental                        Avançado   \n",
              "6           6     DF     56        Médio                   Intermediário   \n",
              "7           7     DF     36     Superior                        Avançado   \n",
              "8           8     PI     40  Fundamental                          Básico   \n",
              "9           9     AP     28     Superior                        Avançado   \n",
              "\n",
              "     renda sexo  \n",
              "0  4006.29    F  \n",
              "1  2423.11    M  \n",
              "2  3835.69    M  \n",
              "3  1870.29    M  \n",
              "4  3529.80    M  \n",
              "5  4441.57    F  \n",
              "6   528.36    F  \n",
              "7  2203.10    F  \n",
              "8  3577.07    F  \n",
              "9  2796.95    M  "
            ]
          },
          "execution_count": 12,
          "metadata": {},
          "output_type": "execute_result"
        }
      ],
      "source": [
        "df.head(10)"
      ]
    },
    {
      "cell_type": "code",
      "execution_count": null,
      "metadata": {
        "colab": {
          "base_uri": "https://localhost:8080/"
        },
        "id": "sQwaHAO6Griw",
        "outputId": "b297ddee-1a90-4cc5-fae4-beba46336a18"
      },
      "outputs": [
        {
          "data": {
            "text/plain": [
              "(1000, 7)"
            ]
          },
          "execution_count": 4,
          "metadata": {},
          "output_type": "execute_result"
        }
      ],
      "source": [
        "df.shape"
      ]
    },
    {
      "cell_type": "code",
      "execution_count": null,
      "metadata": {
        "colab": {
          "base_uri": "https://localhost:8080/"
        },
        "id": "Wvr3tuG1GvHF",
        "outputId": "b107bfa9-09fd-48aa-eb43-bce727e61bb6"
      },
      "outputs": [
        {
          "name": "stdout",
          "output_type": "stream",
          "text": [
            "<class 'pandas.core.frame.DataFrame'>\n",
            "RangeIndex: 1000 entries, 0 to 999\n",
            "Data columns (total 7 columns):\n",
            " #   Column                           Non-Null Count  Dtype  \n",
            "---  ------                           --------------  -----  \n",
            " 0   Unnamed: 0                       1000 non-null   int64  \n",
            " 1   estado                           1000 non-null   object \n",
            " 2   idade                            1000 non-null   int64  \n",
            " 3   escolaridade                     1000 non-null   object \n",
            " 4   nível de proficiência em inglês  1000 non-null   object \n",
            " 5   renda                            1000 non-null   float64\n",
            " 6   sexo                             1000 non-null   object \n",
            "dtypes: float64(1), int64(2), object(4)\n",
            "memory usage: 54.8+ KB\n"
          ]
        }
      ],
      "source": [
        "df.info() #Não temos valores nulos"
      ]
    },
    {
      "cell_type": "markdown",
      "metadata": {
        "id": "kHFW9l5dHE0u"
      },
      "source": [
        "###1. Considere pessoas fluentes em inglês. Qual a probabilidade complementar? Ou seja, qual a probabilidade de escolhermos uma pessoa aleatória e ela não ser fluente em inglês? Considere fluente quem tem o nível avançado.\n",
        "\n",
        "**Resposta**: 65,6%"
      ]
    },
    {
      "cell_type": "code",
      "execution_count": null,
      "metadata": {
        "colab": {
          "base_uri": "https://localhost:8080/"
        },
        "id": "4lspYpapG3DA",
        "outputId": "b6024d78-0726-4725-cbf8-caa1781263f4"
      },
      "outputs": [
        {
          "data": {
            "text/plain": [
              "656"
            ]
          },
          "execution_count": 38,
          "metadata": {},
          "output_type": "execute_result"
        }
      ],
      "source": [
        "\n",
        "amostra = df[df['nível de proficiência em inglês'] != 'Avançado'].shape[0]\n",
        "amostra"
      ]
    },
    {
      "cell_type": "code",
      "execution_count": null,
      "metadata": {
        "colab": {
          "base_uri": "https://localhost:8080/"
        },
        "id": "bg-G8foeGw6L",
        "outputId": "9abab6b6-3669-4d9c-8a46-da96fe742c1b"
      },
      "outputs": [
        {
          "data": {
            "text/plain": [
              "1000"
            ]
          },
          "execution_count": 39,
          "metadata": {},
          "output_type": "execute_result"
        }
      ],
      "source": [
        "espaco_amostral = df.shape[0]\n",
        "espaco_amostral"
      ]
    },
    {
      "cell_type": "code",
      "execution_count": null,
      "metadata": {
        "colab": {
          "base_uri": "https://localhost:8080/"
        },
        "id": "2A_qLSd7I2cA",
        "outputId": "6730eb09-9f00-4f1b-827d-1f77652c3931"
      },
      "outputs": [
        {
          "data": {
            "text/plain": [
              "65.60000000000001"
            ]
          },
          "execution_count": 40,
          "metadata": {},
          "output_type": "execute_result"
        }
      ],
      "source": [
        "probab_complementar = (amostra/espaco_amostral)*100\n",
        "probab_complementar"
      ]
    },
    {
      "cell_type": "code",
      "execution_count": null,
      "metadata": {
        "colab": {
          "base_uri": "https://localhost:8080/"
        },
        "id": "PiCDxlgKWkM3",
        "outputId": "a9330835-e925-4f97-efde-97f674a9ed01"
      },
      "outputs": [
        {
          "data": {
            "text/plain": [
              "0.656"
            ]
          },
          "execution_count": 45,
          "metadata": {},
          "output_type": "execute_result"
        }
      ],
      "source": [
        "#Utilizando a função de massa da probabilidade da distribuição binomial\n",
        "binom.pmf(1, 1, amostra/espaco_amostral)"
      ]
    },
    {
      "cell_type": "markdown",
      "metadata": {
        "id": "iUatGtvXJikZ"
      },
      "source": [
        "###2. Se uma pessoa escolhida aleatoriamente for de Alagoas ou do Pará, qual é a probabilidade de ela ter uma renda superior a 5 mil reais?\n",
        "**Resposta**: 5,1%"
      ]
    },
    {
      "cell_type": "code",
      "execution_count": null,
      "metadata": {
        "colab": {
          "base_uri": "https://localhost:8080/"
        },
        "id": "mnCgtsxgJkts",
        "outputId": "e5a94a4f-7eeb-4f7b-965f-6e917bcad596"
      },
      "outputs": [
        {
          "data": {
            "text/plain": [
              "79"
            ]
          },
          "execution_count": 23,
          "metadata": {},
          "output_type": "execute_result"
        }
      ],
      "source": [
        "#espaço amostral: pessoas do AL e do PA\n",
        "#condição: ter renda superior a 5 mil\n",
        "\n",
        "espaco_amostral = df[(df['estado'] == 'AL') | (df['estado'] == 'PA')]\n",
        "espaco_amostral.shape[0]"
      ]
    },
    {
      "cell_type": "code",
      "execution_count": null,
      "metadata": {
        "colab": {
          "base_uri": "https://localhost:8080/"
        },
        "id": "8gAsmKuvOCVv",
        "outputId": "09874c33-c18b-4cf2-d3b1-292dc05c38e8"
      },
      "outputs": [
        {
          "data": {
            "text/plain": [
              "4"
            ]
          },
          "execution_count": 25,
          "metadata": {},
          "output_type": "execute_result"
        }
      ],
      "source": [
        "amostra = espaco_amostral[espaco_amostral['renda'] > 5000]\n",
        "amostra.shape[0]"
      ]
    },
    {
      "cell_type": "code",
      "execution_count": null,
      "metadata": {
        "colab": {
          "base_uri": "https://localhost:8080/"
        },
        "id": "3jtWdxfIPaHZ",
        "outputId": "46d889f4-c30f-4b8a-954f-b9bb1e1a05f6"
      },
      "outputs": [
        {
          "data": {
            "text/plain": [
              "5.063291139240507"
            ]
          },
          "execution_count": 27,
          "metadata": {},
          "output_type": "execute_result"
        }
      ],
      "source": [
        "probab = (amostra.shape[0]/espaco_amostral.shape[0])*100\n",
        "probab"
      ]
    },
    {
      "cell_type": "markdown",
      "metadata": {
        "id": "iJzmcXKYP2dK"
      },
      "source": [
        "##3. Descubra a probabilidade de uma pessoa ter ensino superior completo no estado do Amazonas. Qual a probabilidade da quinta pessoa que você conversar, que é amazonense, ter ensino superior completo?\n",
        "\n",
        "**Resposta**: 0,08"
      ]
    },
    {
      "cell_type": "code",
      "execution_count": null,
      "metadata": {
        "colab": {
          "base_uri": "https://localhost:8080/"
        },
        "id": "y2TtxvLXQhrB",
        "outputId": "9473d46c-2f62-41bd-f917-b68117a72ead"
      },
      "outputs": [
        {
          "data": {
            "text/plain": [
              "array(['Fundamental', 'Superior', 'Médio', 'Pós-graduação'], dtype=object)"
            ]
          },
          "execution_count": 30,
          "metadata": {},
          "output_type": "execute_result"
        }
      ],
      "source": [
        "df.escolaridade.unique()"
      ]
    },
    {
      "cell_type": "code",
      "execution_count": null,
      "metadata": {
        "colab": {
          "base_uri": "https://localhost:8080/"
        },
        "id": "a6qcHcFsQCoZ",
        "outputId": "7021714f-4b3f-41df-d073-bd571f66819a"
      },
      "outputs": [
        {
          "data": {
            "text/plain": [
              "0.5526315789473685"
            ]
          },
          "execution_count": 10,
          "metadata": {},
          "output_type": "execute_result"
        }
      ],
      "source": [
        "#Probabilidade de uma pessoa ter ensino superior completo no Amazonas (considerei ensino superior apenas, não incluindo pós-graduação): 23,7%\n",
        "amostra = df[(df['estado'] == 'AM') & ((df['escolaridade'] == 'Superior') | (df['escolaridade'] == 'Pós-graduação'))].shape[0]\n",
        "#espaço amostral: população do estado do Amazonas\n",
        "espaco_amostral = df[df['estado'] == 'AM'].shape[0]\n",
        "\n",
        "probab = (amostra/espaco_amostral)\n",
        "probab"
      ]
    },
    {
      "cell_type": "code",
      "execution_count": null,
      "metadata": {
        "colab": {
          "base_uri": "https://localhost:8080/"
        },
        "id": "CWyh__WUaqaC",
        "outputId": "aa91dd91-8e46-4439-c6b4-c6e6a4ddd479"
      },
      "outputs": [
        {
          "data": {
            "text/plain": [
              "0.022135890467222828"
            ]
          },
          "execution_count": 11,
          "metadata": {},
          "output_type": "execute_result"
        }
      ],
      "source": [
        "probabilidade = stats.geom.pmf(k=5, p=probab)\n",
        "probabilidade"
      ]
    },
    {
      "cell_type": "markdown",
      "metadata": {
        "id": "xAgf9QaLQO3O"
      },
      "source": [
        "##4. Considerando a renda das pessoas do nosso conjunto, podemos dizer que a renda de uma pessoa brasileira está na sua maioria em que faixa (faça faixa de 1.500 reais)? Qual é a sua função densidade de probabilidade?"
      ]
    },
    {
      "cell_type": "markdown",
      "metadata": {
        "id": "8O6p7oRz5RVB"
      },
      "source": [
        "####Pelo gráfico plotado percebemos que a faixa de renda com maior densidade é a de 3.000 reais a 4.500 reais."
      ]
    },
    {
      "cell_type": "code",
      "execution_count": null,
      "metadata": {
        "colab": {
          "base_uri": "https://localhost:8080/",
          "height": 474
        },
        "id": "O8NtVRzfyFnb",
        "outputId": "2d18ba6f-e719-459e-b6a4-a9e11ba45c2f"
      },
      "outputs": [
        {
          "data": {
            "image/png": "[encoded data removed]",
            "text/plain": [
              "<Figure size 640x480 with 1 Axes>"
            ]
          },
          "metadata": {},
          "output_type": "display_data"
        }
      ],
      "source": [
        "renda_min = df['renda'].min()\n",
        "renda_max = df['renda'].max()\n",
        "faixas = np.arange(0, renda_max + 1500, 1500)\n",
        "plt.hist(df['renda'], bins = faixas, color = 'purple', edgecolor = 'black')\n",
        "\n",
        "plt.xlabel('Faixas de renda')\n",
        "plt.ylabel('Quantidade de pessoas')\n",
        "plt.title('Densidade por faixa de renda', fontsize = 16)\n",
        "\n",
        "plt.show()"
      ]
    },
    {
      "cell_type": "markdown",
      "metadata": {
        "id": "SmvHc063QYKO"
      },
      "source": [
        "##5. Calcule a média e a variância da renda da amostra. Depois faça a distribuição normal, incluindo o gráfico."
      ]
    },
    {
      "cell_type": "code",
      "execution_count": null,
      "metadata": {
        "colab": {
          "base_uri": "https://localhost:8080/"
        },
        "id": "GmZBEWDv5tdj",
        "outputId": "0ee73fab-8b13-41ec-9212-08e15821e5b9"
      },
      "outputs": [
        {
          "name": "stdout",
          "output_type": "stream",
          "text": [
            "A média é 3082.54 e a variância é 993156.23.\n"
          ]
        }
      ],
      "source": [
        "media = df['renda'].mean()\n",
        "variancia = df['renda'].var()\n",
        "print(f'A média é {media:.2f} e a variância é {variancia:.2f}.')"
      ]
    },
    {
      "cell_type": "code",
      "execution_count": null,
      "metadata": {
        "colab": {
          "base_uri": "https://localhost:8080/",
          "height": 474
        },
        "id": "kNaKoOh158SU",
        "outputId": "f2acff47-4b46-4053-ae69-47b65f224743"
      },
      "outputs": [
        {
          "data": {
            "image/png": "[encoded data removed]",
            "text/plain": [
              "<Figure size 640x480 with 1 Axes>"
            ]
          },
          "metadata": {},
          "output_type": "display_data"
        }
      ],
      "source": [
        "plt.hist(df['renda'], bins = 10, color = 'orange', edgecolor = 'black')\n",
        "\n",
        "plt.title('Distribuição da renda da população brasileira', fontsize = 16)\n",
        "plt.xlabel('faixas de renda')\n",
        "plt.show()"
      ]
    },
    {
      "cell_type": "markdown",
      "metadata": {
        "id": "kZKPNkQgSA1b"
      },
      "source": [
        "##6. Primeiro considere a probabilidade encontrada no nosso conjunto de pessoas com escolaridade de pós-graduação. Considerando a amostra de população brasileira com 1 milhão de habitantes, qual a probabilidade de encontrarmos 243 mil pessoas com pós-graduação?\n",
        "\n",
        "**Resposta:** Há 2,25% de chance de encontrar uma pessoa com pós-graduação em nosso dataset."
      ]
    },
    {
      "cell_type": "code",
      "execution_count": null,
      "metadata": {
        "id": "4KVNRyAm9q3i"
      },
      "outputs": [],
      "source": [
        "prop = len(df[df['escolaridade'] == 'Pós-graduação'])/len(df)"
      ]
    },
    {
      "cell_type": "code",
      "execution_count": null,
      "metadata": {
        "colab": {
          "base_uri": "https://localhost:8080/"
        },
        "id": "V3oswjHh956A",
        "outputId": "1f673bac-9fde-4891-d936-21ddd60f6d43"
      },
      "outputs": [
        {
          "data": {
            "text/plain": [
              "0.022515178317096114"
            ]
          },
          "execution_count": 84,
          "metadata": {},
          "output_type": "execute_result"
        }
      ],
      "source": [
        "stats.binom.pmf(243, 1000, prop)"
      ]
    },
    {
      "cell_type": "markdown",
      "metadata": {
        "id": "by6ZHidHXz8u"
      },
      "source": [
        "##7. Somando as densidades nós temos a função de densidade acumulada. Considerando a coluna ‘Escolaridade’ faça a função de densidade acumulada discreta para cada nível de escolaridade."
      ]
    },
    {
      "cell_type": "code",
      "execution_count": null,
      "metadata": {
        "colab": {
          "base_uri": "https://localhost:8080/"
        },
        "id": "-GqcObpZttjK",
        "outputId": "d97ae483-6511-4e88-f01b-eb0b9c8eaeb6"
      },
      "outputs": [
        {
          "data": {
            "text/plain": [
              "array(['Fundamental', 'Superior', 'Médio', 'Pós-graduação'], dtype=object)"
            ]
          },
          "execution_count": 46,
          "metadata": {},
          "output_type": "execute_result"
        }
      ],
      "source": [
        "df.escolaridade.unique()"
      ]
    },
    {
      "cell_type": "code",
      "execution_count": 5,
      "metadata": {
        "id": "RQhP6_f_t4CP"
      },
      "outputs": [],
      "source": [
        "prob_fundamental =len(df[df['escolaridade'] == 'Fundamental'])/len(df)\n",
        "prob_superior =len(df[df['escolaridade'] == 'Superior'])/len(df)\n",
        "prob_medio =len(df[df['escolaridade'] == 'Médio'])/len(df)\n",
        "prob_pg =len(df[df['escolaridade'] == 'Pós-graduação'])/len(df)"
      ]
    },
    {
      "cell_type": "code",
      "execution_count": 6,
      "metadata": {
        "colab": {
          "base_uri": "https://localhost:8080/",
          "height": 567
        },
        "id": "YTe3MXS4thtz",
        "outputId": "834b039c-5e20-4221-919e-5f0ae44109f7"
      },
      "outputs": [
        {
          "data": {
            "image/png": "[encoded data removed]",
            "text/plain": [
              "<Figure size 800x600 with 1 Axes>"
            ]
          },
          "metadata": {},
          "output_type": "display_data"
        }
      ],
      "source": [
        "escolaridades = ['Fundamental', 'Médio', 'Superior', 'Pós-graduação']\n",
        "probabilidades = np.array([prob_fundamental, prob_medio, prob_superior, prob_pg])\n",
        "\n",
        "# Calculando a CDF usando a soma cumulativa das probabilidades\n",
        "cdf_probabilidades = np.cumsum(probabilidades)\n",
        "\n",
        "# Criando o gráfico de CDF\n",
        "plt.figure(figsize = (8,6))\n",
        "plt.step(escolaridades, cdf_probabilidades, where='post', color='blue') #O parâmetro where='post' indica que o degrau é colocado após o ponto de dados, alinhando a função degrau com os valores discretos.\n",
        "\n",
        "\n",
        "# Adicionando título e rótulos aos eixos\n",
        "\n",
        "plt.title('Função de Distribuição Acumulada da Escolaridade', fontsize = 16)\n",
        "plt.xlabel('Escolaridade')\n",
        "plt.ylabel('Probabilidade Acumulada')\n",
        "\n",
        "# Exibindo o gráfico\n",
        "plt.show()"
      ]
    },
    {
      "cell_type": "markdown",
      "metadata": {
        "id": "ZcwwAkhUX6kM"
      },
      "source": [
        "##8. Qual a margem de erro amostral da proporção populacional, considerando a proporção de pessoas com nível de inglês intermediário?"
      ]
    },
    {
      "cell_type": "code",
      "execution_count": null,
      "metadata": {
        "colab": {
          "base_uri": "https://localhost:8080/"
        },
        "id": "wxLNh5IOnq59",
        "outputId": "2d21bf65-40cd-4625-d75f-408d4a1d8880"
      },
      "outputs": [
        {
          "data": {
            "text/plain": [
              "0.329"
            ]
          },
          "execution_count": 41,
          "metadata": {},
          "output_type": "execute_result"
        }
      ],
      "source": [
        "#Encontrando a proporção de pessoas com nível de inglês intermediário\n",
        "\n",
        "proporcao_amostral = len(df[df['nível de proficiência em inglês'] == 'Intermediário'])/len(df)\n",
        "proporcao_amostral"
      ]
    },
    {
      "cell_type": "code",
      "execution_count": null,
      "metadata": {
        "colab": {
          "base_uri": "https://localhost:8080/"
        },
        "id": "ZchXmWLkjveO",
        "outputId": "c2603f8d-7412-4164-f4e7-95cdf9ade9d9"
      },
      "outputs": [
        {
          "data": {
            "text/plain": [
              "0.029121068108804226"
            ]
          },
          "execution_count": 45,
          "metadata": {},
          "output_type": "execute_result"
        }
      ],
      "source": [
        "\n",
        "#Proporção amostral (p)\n",
        "p = proporcao_amostral\n",
        "\n",
        "# O tamanho da amostra (n)\n",
        "n = len(df)\n",
        "\n",
        "# Nível de confiança desejado: 95%\n",
        "confianca = 0.95\n",
        "\n",
        "# Encontrando o escore Z correspondente ao nível de confiança\n",
        "# Para um nível de confiança de 95%, o escore Z é aproximadamente 1.96\n",
        "z = stats.norm.ppf((confianca + 1) / 2)\n",
        "\n",
        "# Calculando a margem de erro\n",
        "margem_de_erro = z * np.sqrt((p * (1 - p) / n))\n",
        "\n",
        "margem_de_erro"
      ]
    },
    {
      "cell_type": "markdown",
      "metadata": {
        "id": "5XbOqP9dYDCH"
      },
      "source": [
        "##9. Calcula a renda da população. Qual a probabilidade de encontrar 60 pessoas com uma renda mil reais superior à média?"
      ]
    },
    {
      "cell_type": "code",
      "execution_count": null,
      "metadata": {
        "colab": {
          "base_uri": "https://localhost:8080/"
        },
        "id": "Ke9jgHsYe3KI",
        "outputId": "a5067987-64dc-4123-e32f-264f5558d0f1"
      },
      "outputs": [
        {
          "data": {
            "text/plain": [
              "3082.5371800000003"
            ]
          },
          "execution_count": 24,
          "metadata": {},
          "output_type": "execute_result"
        }
      ],
      "source": [
        "media_renda = df.renda.mean()\n",
        "media_renda\n",
        "\n",
        "#p = pop_alvo.shape[0]/df.shape[0]\n",
        "#p\n",
        "#probab = stats.binom.pmf(60, len(df), p)\n",
        "#probab"
      ]
    },
    {
      "cell_type": "code",
      "execution_count": null,
      "metadata": {
        "colab": {
          "base_uri": "https://localhost:8080/"
        },
        "id": "QZyIkpnWgljo",
        "outputId": "5edb0f9c-977d-4021-cb88-b1fd62804282"
      },
      "outputs": [
        {
          "data": {
            "text/plain": [
              "0"
            ]
          },
          "execution_count": 31,
          "metadata": {},
          "output_type": "execute_result"
        }
      ],
      "source": [
        "pop_alvo = df[df['renda'] == (round(media_renda) + 1000)]\n",
        "len(pop_alvo)"
      ]
    },
    {
      "cell_type": "markdown",
      "metadata": {
        "id": "46481M4jhFf6"
      },
      "source": [
        "####Como podemos ver, não existem pessoas com renda exatamente igual a 1000 reais acima da média. Então a probabilidade de encontrá-las é 0. Como alternativa ao que é proposto no exercício, vou calcular a probabilidade de encontrar pessoas com renda superior à média."
      ]
    },
    {
      "cell_type": "code",
      "execution_count": null,
      "metadata": {
        "colab": {
          "base_uri": "https://localhost:8080/"
        },
        "id": "uCdNa78bhbNu",
        "outputId": "4329e222-911e-4e0e-895c-e075511c40d6"
      },
      "outputs": [
        {
          "data": {
            "text/plain": [
              "161"
            ]
          },
          "execution_count": 85,
          "metadata": {},
          "output_type": "execute_result"
        }
      ],
      "source": [
        "pop_alvo = df[df['renda'] > ((round(media_renda)) + 1000)]\n",
        "len(pop_alvo)"
      ]
    },
    {
      "cell_type": "code",
      "execution_count": null,
      "metadata": {
        "colab": {
          "base_uri": "https://localhost:8080/"
        },
        "id": "pHUukQEWiE0c",
        "outputId": "4d5dfa9d-d614-4094-9c77-dd9426207588"
      },
      "outputs": [
        {
          "data": {
            "text/plain": [
              "1000"
            ]
          },
          "execution_count": 36,
          "metadata": {},
          "output_type": "execute_result"
        }
      ],
      "source": [
        "len(df)"
      ]
    },
    {
      "cell_type": "code",
      "execution_count": null,
      "metadata": {
        "colab": {
          "base_uri": "https://localhost:8080/"
        },
        "id": "Qq0aHj-DhrA0",
        "outputId": "45963083-3eec-4c84-c969-20c04163e0dd"
      },
      "outputs": [
        {
          "data": {
            "text/plain": [
              "1.099520565163774e-22"
            ]
          },
          "execution_count": 86,
          "metadata": {},
          "output_type": "execute_result"
        }
      ],
      "source": [
        "#len(pop_alvo)/len(df)\n",
        "\n",
        "probab = stats.binom.pmf(60, len(df), len(pop_alvo)/len(df))\n",
        "probab"
      ]
    },
    {
      "cell_type": "markdown",
      "metadata": {
        "id": "oRn4L-LrijfA"
      },
      "source": [
        "####A probabilidade é um número muuuuito pequeno: 2.0371005405985087e-201"
      ]
    },
    {
      "cell_type": "markdown",
      "metadata": {
        "id": "XpLBbmg2YJTE"
      },
      "source": [
        "###10. Qual a probabilidade de escolhermos alguém do Sudeste que seja homem, com ensino fundamental e com renda maior que 2 mil reais por mês?\n",
        "\n",
        "**Resposta:** 1,9%"
      ]
    },
    {
      "cell_type": "code",
      "execution_count": null,
      "metadata": {
        "colab": {
          "base_uri": "https://localhost:8080/"
        },
        "id": "ZnJv7f_Ca_hu",
        "outputId": "1ec80666-3658-4ec2-9a8a-18fc276cb73f"
      },
      "outputs": [
        {
          "data": {
            "text/plain": [
              "Index(['Unnamed: 0', 'estado', 'idade', 'escolaridade',\n",
              "       'nível de proficiência em inglês', 'renda', 'sexo'],\n",
              "      dtype='object')"
            ]
          },
          "execution_count": 4,
          "metadata": {},
          "output_type": "execute_result"
        }
      ],
      "source": [
        "df.columns"
      ]
    },
    {
      "cell_type": "code",
      "execution_count": null,
      "metadata": {
        "colab": {
          "base_uri": "https://localhost:8080/"
        },
        "id": "OhNQldLUbn70",
        "outputId": "2aa17ac4-ed5b-4342-dfec-6837d6204516"
      },
      "outputs": [
        {
          "data": {
            "text/plain": [
              "array(['MA', 'BA', 'AM', 'CE', 'SE', 'DF', 'PI', 'AP', 'AC', 'SC', 'SP',\n",
              "       'GO', 'RO', 'PA', 'MS', 'RN', 'RS', 'RR', 'PR', 'MG', 'MT', 'TO',\n",
              "       'PB', 'PE', 'RJ', 'AL', 'ES'], dtype=object)"
            ]
          },
          "execution_count": 4,
          "metadata": {},
          "output_type": "execute_result"
        }
      ],
      "source": [
        "df.estado.unique()"
      ]
    },
    {
      "cell_type": "code",
      "execution_count": 8,
      "metadata": {
        "id": "PFm6cP41R4OL"
      },
      "outputs": [],
      "source": [
        "# P(A ∩ B ∩ C ∩ D) = P(A)×P(B)×P(C)×P(D)\n",
        "df_se =  df[(df['estado'] == 'RJ')|(df['estado'] == 'SP')|(df['estado'] == 'MG')|(df['estado'] == 'ES')]\n"
      ]
    },
    {
      "cell_type": "code",
      "execution_count": 9,
      "metadata": {
        "id": "ziUzSIrZcD4u"
      },
      "outputs": [],
      "source": [
        "x = len(df_se[(df_se['sexo'] == 'M') & (df_se['renda'] > 2000) & (df_se['escolaridade'] == 'Fundamental')])"
      ]
    },
    {
      "cell_type": "code",
      "execution_count": 11,
      "metadata": {
        "colab": {
          "base_uri": "https://localhost:8080/"
        },
        "id": "RIEKP3-cdu5X",
        "outputId": "9b83755c-3a95-451b-a8b9-78eefb3a53ec"
      },
      "outputs": [
        {
          "data": {
            "text/plain": [
              "1.9"
            ]
          },
          "execution_count": 11,
          "metadata": {},
          "output_type": "execute_result"
        }
      ],
      "source": [
        "prob = (x/len(df))*100\n",
        "prob"
      ]
    },
    {
      "cell_type": "code",
      "execution_count": null,
      "metadata": {
        "id": "Ay2xBjWteR5a"
      },
      "outputs": [],
      "source": []
    }
  ],
  "metadata": {
    "colab": {
      "provenance": []
    },
    "kernelspec": {
      "display_name": "Python 3",
      "name": "python3"
    },
    "language_info": {
      "name": "python"
    }
  },
  "nbformat": 4,
  "nbformat_minor": 0
}
